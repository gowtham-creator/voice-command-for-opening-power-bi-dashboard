{
 "cells": [
  {
   "cell_type": "code",
   "execution_count": 2,
   "id": "d693547f",
   "metadata": {
    "scrolled": true
   },
   "outputs": [],
   "source": [
    "import speech_recognition as sr\n",
    "import webbrowser\n",
    "import pyttsx3\n"
   ]
  },
  {
   "cell_type": "code",
   "execution_count": null,
   "id": "c68e9f20",
   "metadata": {},
   "outputs": [
    {
     "name": "stdout",
     "output_type": "stream",
     "text": [
      "Listening for voice command...\n",
      "Error: FLAC conversion utility not available - consider installing the FLAC command line application by running `apt-get install flac` or your operating system's equivalent\n",
      "Listening for voice command...\n",
      "Error: FLAC conversion utility not available - consider installing the FLAC command line application by running `apt-get install flac` or your operating system's equivalent\n",
      "Listening for voice command...\n"
     ]
    }
   ],
   "source": [
    "def open_website(website):\n",
    "    if website == 'Home Page':\n",
    "        webbrowser.open('https://app.powerbi.com/groups/me/reports/b5d3ec85-a88d-4241-8dca-61c3852e3f66/ReportSection8908aa5ed6111dc5b2ac?experience=power-bi')\n",
    "    elif website == 'Sale Analysis':\n",
    "        webbrowser.open('https://app.powerbi.com/groups/me/reports/b4a53daa-a519-44ca-8b10-bcb1b8e7cfcf/ReportSection7ad9633d2f70effcd468?experience=power-bi&clientSideAuth=0')\n",
    "    elif website == 'Production':\n",
    "        webbrowser.open('https://app.powerbi.com/groups/me/reports/b4a53daa-a519-44ca-8b10-bcb1b8e7cfcf/ReportSection0b965e5f0ff4c1d12917?experience=power-bi&clientSideAuth=0')\n",
    "    elif website == 'Cost Analysis':\n",
    "        webbrowser.open('https://app.powerbi.com/groups/me/reports/b4a53daa-a519-44ca-8b10-bcb1b8e7cfcf/ReportSection76e661661e1efa82616c?experience=power-bi&clientSideAuth=0')\n",
    "    elif website == 'Raw Material':\n",
    "        webbrowser.open('https://app.powerbi.com/groups/me/reports/b4a53daa-a519-44ca-8b10-bcb1b8e7cfcf/ReportSectionfbdc3e3fdaae956b9024?experience=power-bi&clientSideAuth=0')\n",
    "    elif website == 'Sales By Quarter':\n",
    "        webbrowser.open('https://app.powerbi.com/groups/me/reports/b5d3ec85-a88d-4241-8dca-61c3852e3f66/ReportSectiona97b3a0dc512de272e92?experience=power-bi')\n",
    "def speak(text):\n",
    "    engine = pyttsx3.init()\n",
    "    engine.say(text)\n",
    "    engine.runAndWait()\n",
    "def voice_command():\n",
    "    r = sr.Recognizer()\n",
    "    terminate = False\n",
    "    while not terminate:\n",
    "        with sr.Microphone()as source:\n",
    "            speak('The following tabs can be opened: Home Page , Sale Analysis , Production , Cost Analysis , Raw Material , Sales By Quater')\n",
    "            print(\"Listening for voice command...\")\n",
    "            audio = r.listen(source)\n",
    "        try:\n",
    "            command = r.recognize_google(audio).lower()\n",
    "            print(\"Command:\", command)\n",
    "            \n",
    "            if 'open' in command:\n",
    "                if 'Home page' in command:\n",
    "                    open_website('Home Page')\n",
    "                    speak('Opening Home Page')\n",
    "                elif 'Sale Analysis' in command:\n",
    "                    open_website('Sale Analysis')\n",
    "                    speak('Opening Sale Analysis')\n",
    "                elif 'Production' in command:\n",
    "                    open_website('Production')\n",
    "                    speak('Opening Production')\n",
    "                elif 'Cost Analysis' in command:\n",
    "                    open_website('Cost Analysis')\n",
    "                    speak('Opening Cost Analysis')\n",
    "                elif 'Raw Material' in command:\n",
    "                    open_website('Raw Material')\n",
    "                    speak('Raw Material')\n",
    "                elif 'Sales By Quarter' in command:\n",
    "                    open_website('Sales By Quarter')\n",
    "                    speak('Sales By Quarter')\n",
    "                else:\n",
    "                    speak(\"Sorry, i don't understand the command.\")\n",
    "                    \n",
    "            if 'terminate' in command:\n",
    "                terminate = True\n",
    "                speak('Terminating the program')\n",
    "                \n",
    "                 \n",
    "        except sr.UnknownValueError:\n",
    "            speak(\"Sorry, i couldn't recognize your voice.\")\n",
    "        except sr.RequestError as e:\n",
    "            speak(\"Sorry, there was an issue with the spech recognition service.\")\n",
    "            print(\"Speech recognition error:\", str(e))\n",
    "        except Exception as e:\n",
    "            speak(\"Sorry, an error occured.\")\n",
    "            print(\"Error:\", str(e))\n",
    "            \n",
    "            \n",
    "            \n",
    "# microphone input\n",
    "sr.Microphone(device_index=0)\n",
    "\n",
    "#driver code\n",
    "voice_command()"
   ]
  },
  {
   "cell_type": "code",
   "execution_count": null,
   "id": "e553cc12",
   "metadata": {},
   "outputs": [],
   "source": [
    "### complete "
   ]
  }
 ],
 "metadata": {
  "kernelspec": {
   "display_name": "Python 3 (ipykernel)",
   "language": "python",
   "name": "python3"
  },
  "language_info": {
   "codemirror_mode": {
    "name": "ipython",
    "version": 3
   },
   "file_extension": ".py",
   "mimetype": "text/x-python",
   "name": "python",
   "nbconvert_exporter": "python",
   "pygments_lexer": "ipython3",
   "version": "3.10.9"
  }
 },
 "nbformat": 4,
 "nbformat_minor": 5
}
