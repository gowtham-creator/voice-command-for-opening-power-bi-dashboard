{
 "cells": [
  {
   "cell_type": "code",
   "execution_count": 6,
   "id": "d693547f",
   "metadata": {
    "scrolled": true
   },
   "outputs": [],
   "source": [
    "import speech_recognition as sr\n",
    "import webbrowser\n",
    "import pyttsx3\n"
   ]
  },
  {
   "cell_type": "code",
   "execution_count": 7,
   "id": "e553cc12",
   "metadata": {},
   "outputs": [],
   "source": [
    "# initlializing speech recognition engine\n",
    "r = sr.Recognizer()"
   ]
  },
  {
   "cell_type": "code",
   "execution_count": 8,
   "id": "d9dde0fc",
   "metadata": {},
   "outputs": [],
   "source": [
    "# initializing the text to speech engine\n",
    "engine = pyttsx3.init()"
   ]
  },
  {
   "cell_type": "code",
   "execution_count": 13,
   "id": "b20ab00d",
   "metadata": {},
   "outputs": [
    {
     "name": "stdout",
     "output_type": "stream",
     "text": [
      "Listening...\n"
     ]
    },
    {
     "ename": "OSError",
     "evalue": "FLAC conversion utility not available - consider installing the FLAC command line application by running `apt-get install flac` or your operating system's equivalent",
     "output_type": "error",
     "traceback": [
      "\u001b[1;31m---------------------------------------------------------------------------\u001b[0m",
      "\u001b[1;31mOSError\u001b[0m                                   Traceback (most recent call last)",
      "Cell \u001b[1;32mIn[13], line 24\u001b[0m\n\u001b[0;32m     22\u001b[0m command \u001b[38;5;241m=\u001b[39m \u001b[38;5;124m\"\u001b[39m\u001b[38;5;124m\"\u001b[39m\n\u001b[0;32m     23\u001b[0m \u001b[38;5;28;01mtry\u001b[39;00m:\n\u001b[1;32m---> 24\u001b[0m     command \u001b[38;5;241m=\u001b[39m \u001b[43mr\u001b[49m\u001b[38;5;241;43m.\u001b[39;49m\u001b[43mrecognize_google\u001b[49m\u001b[43m(\u001b[49m\u001b[43maudio\u001b[49m\u001b[43m)\u001b[49m\u001b[38;5;241m.\u001b[39mlower()\n\u001b[0;32m     25\u001b[0m     \u001b[38;5;28mprint\u001b[39m(\u001b[38;5;124m\"\u001b[39m\u001b[38;5;124myou said:\u001b[39m\u001b[38;5;124m\"\u001b[39m, command)\n\u001b[0;32m     26\u001b[0m \u001b[38;5;28;01mexcept\u001b[39;00m sr\u001b[38;5;241m.\u001b[39mUnknownValueError:\n",
      "File \u001b[1;32m~\\anaconda3\\lib\\site-packages\\speech_recognition\\__init__.py:693\u001b[0m, in \u001b[0;36mRecognizer.recognize_google\u001b[1;34m(self, audio_data, key, language, pfilter, show_all, with_confidence)\u001b[0m\n\u001b[0;32m    690\u001b[0m \u001b[38;5;28;01massert\u001b[39;00m key \u001b[38;5;129;01mis\u001b[39;00m \u001b[38;5;28;01mNone\u001b[39;00m \u001b[38;5;129;01mor\u001b[39;00m \u001b[38;5;28misinstance\u001b[39m(key, \u001b[38;5;28mstr\u001b[39m), \u001b[38;5;124m\"\u001b[39m\u001b[38;5;124m``key`` must be ``None`` or a string\u001b[39m\u001b[38;5;124m\"\u001b[39m\n\u001b[0;32m    691\u001b[0m \u001b[38;5;28;01massert\u001b[39;00m \u001b[38;5;28misinstance\u001b[39m(language, \u001b[38;5;28mstr\u001b[39m), \u001b[38;5;124m\"\u001b[39m\u001b[38;5;124m``language`` must be a string\u001b[39m\u001b[38;5;124m\"\u001b[39m\n\u001b[1;32m--> 693\u001b[0m flac_data \u001b[38;5;241m=\u001b[39m \u001b[43maudio_data\u001b[49m\u001b[38;5;241;43m.\u001b[39;49m\u001b[43mget_flac_data\u001b[49m\u001b[43m(\u001b[49m\n\u001b[0;32m    694\u001b[0m \u001b[43m    \u001b[49m\u001b[43mconvert_rate\u001b[49m\u001b[38;5;241;43m=\u001b[39;49m\u001b[38;5;28;43;01mNone\u001b[39;49;00m\u001b[43m \u001b[49m\u001b[38;5;28;43;01mif\u001b[39;49;00m\u001b[43m \u001b[49m\u001b[43maudio_data\u001b[49m\u001b[38;5;241;43m.\u001b[39;49m\u001b[43msample_rate\u001b[49m\u001b[43m \u001b[49m\u001b[38;5;241;43m>\u001b[39;49m\u001b[38;5;241;43m=\u001b[39;49m\u001b[43m \u001b[49m\u001b[38;5;241;43m8000\u001b[39;49m\u001b[43m \u001b[49m\u001b[38;5;28;43;01melse\u001b[39;49;00m\u001b[43m \u001b[49m\u001b[38;5;241;43m8000\u001b[39;49m\u001b[43m,\u001b[49m\u001b[43m  \u001b[49m\u001b[38;5;66;43;03m# audio samples must be at least 8 kHz\u001b[39;49;00m\n\u001b[0;32m    695\u001b[0m \u001b[43m    \u001b[49m\u001b[43mconvert_width\u001b[49m\u001b[38;5;241;43m=\u001b[39;49m\u001b[38;5;241;43m2\u001b[39;49m\u001b[43m  \u001b[49m\u001b[38;5;66;43;03m# audio samples must be 16-bit\u001b[39;49;00m\n\u001b[0;32m    696\u001b[0m \u001b[43m\u001b[49m\u001b[43m)\u001b[49m\n\u001b[0;32m    697\u001b[0m \u001b[38;5;28;01mif\u001b[39;00m key \u001b[38;5;129;01mis\u001b[39;00m \u001b[38;5;28;01mNone\u001b[39;00m: key \u001b[38;5;241m=\u001b[39m \u001b[38;5;124m\"\u001b[39m\u001b[38;5;124mAIzaSyBOti4mM-6x9WDnZIjIeyEU21OpBXqWBgw\u001b[39m\u001b[38;5;124m\"\u001b[39m\n\u001b[0;32m    698\u001b[0m url \u001b[38;5;241m=\u001b[39m \u001b[38;5;124m\"\u001b[39m\u001b[38;5;124mhttp://www.google.com/speech-api/v2/recognize?\u001b[39m\u001b[38;5;132;01m{}\u001b[39;00m\u001b[38;5;124m\"\u001b[39m\u001b[38;5;241m.\u001b[39mformat(urlencode({\n\u001b[0;32m    699\u001b[0m     \u001b[38;5;124m\"\u001b[39m\u001b[38;5;124mclient\u001b[39m\u001b[38;5;124m\"\u001b[39m: \u001b[38;5;124m\"\u001b[39m\u001b[38;5;124mchromium\u001b[39m\u001b[38;5;124m\"\u001b[39m,\n\u001b[0;32m    700\u001b[0m     \u001b[38;5;124m\"\u001b[39m\u001b[38;5;124mlang\u001b[39m\u001b[38;5;124m\"\u001b[39m: language,\n\u001b[0;32m    701\u001b[0m     \u001b[38;5;124m\"\u001b[39m\u001b[38;5;124mkey\u001b[39m\u001b[38;5;124m\"\u001b[39m: key,\n\u001b[0;32m    702\u001b[0m     \u001b[38;5;124m\"\u001b[39m\u001b[38;5;124mpFilter\u001b[39m\u001b[38;5;124m\"\u001b[39m: pfilter\n\u001b[0;32m    703\u001b[0m }))\n",
      "File \u001b[1;32m~\\anaconda3\\lib\\site-packages\\speech_recognition\\audio.py:232\u001b[0m, in \u001b[0;36mAudioData.get_flac_data\u001b[1;34m(self, convert_rate, convert_width)\u001b[0m\n\u001b[0;32m    230\u001b[0m \u001b[38;5;66;03m# run the FLAC converter with the WAV data to get the FLAC data\u001b[39;00m\n\u001b[0;32m    231\u001b[0m wav_data \u001b[38;5;241m=\u001b[39m \u001b[38;5;28mself\u001b[39m\u001b[38;5;241m.\u001b[39mget_wav_data(convert_rate, convert_width)\n\u001b[1;32m--> 232\u001b[0m flac_converter \u001b[38;5;241m=\u001b[39m \u001b[43mget_flac_converter\u001b[49m\u001b[43m(\u001b[49m\u001b[43m)\u001b[49m\n\u001b[0;32m    233\u001b[0m \u001b[38;5;28;01mif\u001b[39;00m (\n\u001b[0;32m    234\u001b[0m     os\u001b[38;5;241m.\u001b[39mname \u001b[38;5;241m==\u001b[39m \u001b[38;5;124m\"\u001b[39m\u001b[38;5;124mnt\u001b[39m\u001b[38;5;124m\"\u001b[39m\n\u001b[0;32m    235\u001b[0m ):  \u001b[38;5;66;03m# on Windows, specify that the process is to be started without showing a console window\u001b[39;00m\n\u001b[0;32m    236\u001b[0m     startup_info \u001b[38;5;241m=\u001b[39m subprocess\u001b[38;5;241m.\u001b[39mSTARTUPINFO()\n",
      "File \u001b[1;32m~\\anaconda3\\lib\\site-packages\\speech_recognition\\audio.py:265\u001b[0m, in \u001b[0;36mget_flac_converter\u001b[1;34m()\u001b[0m\n\u001b[0;32m    263\u001b[0m flac_converter \u001b[38;5;241m=\u001b[39m shutil_which(\u001b[38;5;124m\"\u001b[39m\u001b[38;5;124mflac\u001b[39m\u001b[38;5;124m\"\u001b[39m)  \u001b[38;5;66;03m# check for installed version first\u001b[39;00m\n\u001b[0;32m    264\u001b[0m \u001b[38;5;28;01mif\u001b[39;00m flac_converter \u001b[38;5;129;01mis\u001b[39;00m \u001b[38;5;28;01mNone\u001b[39;00m:  \u001b[38;5;66;03m# flac utility is not installed\u001b[39;00m\n\u001b[1;32m--> 265\u001b[0m     \u001b[38;5;28;01mraise\u001b[39;00m \u001b[38;5;167;01mOSError\u001b[39;00m(\n\u001b[0;32m    266\u001b[0m         \u001b[38;5;124m\"\u001b[39m\u001b[38;5;124mFLAC conversion utility not available - consider installing the FLAC command line application by running `apt-get install flac` or your operating system\u001b[39m\u001b[38;5;124m'\u001b[39m\u001b[38;5;124ms equivalent\u001b[39m\u001b[38;5;124m\"\u001b[39m\n\u001b[0;32m    267\u001b[0m     )\n\u001b[0;32m    269\u001b[0m \u001b[38;5;66;03m# mark FLAC converter as executable if possible\u001b[39;00m\n\u001b[0;32m    270\u001b[0m \u001b[38;5;28;01mtry\u001b[39;00m:\n\u001b[0;32m    271\u001b[0m     \u001b[38;5;66;03m# handle known issue when running on docker:\u001b[39;00m\n\u001b[0;32m    272\u001b[0m     \u001b[38;5;66;03m# run executable right after chmod() may result in OSError \"Text file busy\"\u001b[39;00m\n\u001b[0;32m    273\u001b[0m     \u001b[38;5;66;03m# fix: flush FS with sync\u001b[39;00m\n",
      "\u001b[1;31mOSError\u001b[0m: FLAC conversion utility not available - consider installing the FLAC command line application by running `apt-get install flac` or your operating system's equivalent"
     ]
    }
   ],
   "source": [
    "dashboard_urls = {\n",
    "    \"sales revenue dashboard\": \"https://app.powerbi.com/groups/me/reports/07353a90-7b2a-44fe-92d3-d6b8565fa43e/ReportSection8da7d6bdc07307d92cd8?experience=power-bi\",\n",
    "    \"production dashboard\": \"https://app.powerbi.com/groups/me/reports/b5d3ec85-a88d-4241-8dca-61c3852e3f66/ReportSection0b965e5f0ff4c1d12917?experience=power-bi\",\n",
    "    \"cost analysis dashboard\": \"https://app.powerbi.com/groups/me/reports/b5d3ec85-a88d-4241-8dca-61c3852e3f66/ReportSection76e661661e1efa82616c?experience=power-bi\",\n",
    "    \"raw material dashboard\": \"https://app.powerbi.com/groups/me/reports/b5d3ec85-a88d-4241-8dca-61c3852e3f66/ReportSectionfbdc3e3fdaae956b9024?experience=power-bi\"\n",
    "}\n",
    "# setting the desired voice ID\n",
    "desired_voice_id = 'HKEY_LOCAL_MACHINE\\SOFTWARE\\Microsoft\\Speech\\Voices\\Tokens\\TTS_MS_EN-US_ZIRA_11.0'\n",
    "engine.setProperty('voice', desired_voice_id)\n",
    "# the function to speak the given text\n",
    "def speak(text):\n",
    "    engine.say(text)\n",
    "    engine.runAndWait()\n",
    "speak(\"executing\")\n",
    "#source code\n",
    "while True:\n",
    "    #listen for the voice command\n",
    "    with sr.Microphone() as source:\n",
    "        print(\"Listening...\")\n",
    "        audio = r.listen(source)\n",
    "    #recognizing speech\n",
    "    command = \"\"\n",
    "    try:\n",
    "        command = r.recognize_google(audio).lower()\n",
    "        print(\"you said:\", command)\n",
    "    except sr.UnknownValueError:\n",
    "        print(\"Sorry, I didn't catch that. please try again.\")\n",
    "    except sr.RequestError as e:\n",
    "        print(\"Sorry, I encountered an error while processing your request\")\n",
    "        \n",
    "    # wait for 'Hey mspl' command to start\n",
    "    if \"Hey mspl\" in command:\n",
    "        speak(\"Welcome to the mspl-voice assistant. How can I assist you?\")\n",
    "        break\n",
    "        \n",
    " # processing the commands after \"hey mspl\"\n",
    "while True:\n",
    "    #listen for the voice command\n",
    "    with sr.Microphone() as source:\n",
    "        print(\"Listening...\")\n",
    "        audio = r.listen(source)\n",
    "    # recognise the speech\n",
    "    command = \"\"\n",
    "    try:\n",
    "        command = r.recognize_google(audio).lower()\n",
    "        print(\"you said:\", command)\n",
    "    except sr.UnknownValueError:\n",
    "        print(\"Sorry, I didn't catch that. Please try again.\")\n",
    "    except sr.RequestError as e:\n",
    "        print(\"Sorry, I encountered an error while processing your request. Please try again later.\")\n",
    "    # Process the command\n",
    "    if \"sales revenue dashboard\" in command:\n",
    "        dashboard_url = dashboard_urls[\"sales revenue dashboard\"]\n",
    "        speak(\"Opening sales revenue dashboard\")\n",
    "        webbrowser.open(dashboard_url)\n",
    "    elif \"production dashboard\" in command:\n",
    "        dashboard_url = dashboard_urls[\"production dashboard\"]\n",
    "        speak(\"Opening production dashboard\")\n",
    "        webbrowser.open(dashboard_url)\n",
    "    elif \"cost analysis dashboard\" in command:\n",
    "        dashboard_url = dashboard_urls[\"cost analysis dashboard\"]\n",
    "        speak(\"Opening cost analysis dashboard\")\n",
    "        webbrowser.open(dashboard_url)\n",
    "    elif \"raw material dashboard\" in command:\n",
    "        dashboard_url = dashboard_urls[\"raw material dashboard\"]\n",
    "        webbrowser.open(dashboard_url)\n",
    "    elif \"stop\" in command or \"terminate\" in command:\n",
    "        speak(\"Thank you for using the mspl-voice assistant.\")\n",
    "        break\n",
    "    else:\n",
    "        speak(\"Sorry, I didn't understand that, Please try again.\")\n",
    "        \n",
    "        \n"
   ]
  },
  {
   "cell_type": "code",
   "execution_count": null,
   "id": "f970c2ef",
   "metadata": {},
   "outputs": [],
   "source": []
  }
 ],
 "metadata": {
  "kernelspec": {
   "display_name": "Python 3 (ipykernel)",
   "language": "python",
   "name": "python3"
  },
  "language_info": {
   "codemirror_mode": {
    "name": "ipython",
    "version": 3
   },
   "file_extension": ".py",
   "mimetype": "text/x-python",
   "name": "python",
   "nbconvert_exporter": "python",
   "pygments_lexer": "ipython3",
   "version": "3.10.9"
  }
 },
 "nbformat": 4,
 "nbformat_minor": 5
}
