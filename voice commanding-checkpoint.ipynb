{
 "cells": [
  {
   "cell_type": "code",
   "execution_count": 1,
   "id": "d4345b39",
   "metadata": {},
   "outputs": [],
   "source": [
    "import speech_recognition as sr\n",
    "import webbrowser"
   ]
  },
  {
   "cell_type": "code",
   "execution_count": null,
   "id": "927858f1",
   "metadata": {},
   "outputs": [],
   "source": [
    "def open_website(website):\n",
    "    if website == 'YouTube':\n",
    "        webbrowser.open('https://www.youtube.com')\n",
    "    elif website == 'Twitch':\n",
    "        webbrowser.open('https://www.twitch.tv')\n",
    "    elif website == 'MangaZone':\n",
    "        webbrowser.open('https://mangareader.to/home')\n",
    "\n",
    "def voice_command():\n",
    "    r= sr.Recognizer()\n",
    "    terminate = False\n",
    "    \n",
    "    while not terminate:\n",
    "        with sr.Microphone() as source:\n",
    "            print(\"Listening for voice command...\")\n",
    "            audio = r.listen(source)\n",
    "            \n",
    "        try:\n",
    "            command = r.recognise_google(audio).lower()\n",
    "            print(\"Command:\", command)\n",
    "            \n",
    "            if 'open' in command:\n",
    "                if 'youtube' in command:\n",
    "                    open_website('Youtube')\n",
    "                elif 'twitch' in command:\n",
    "                    open_website('Twitch')\n",
    "                elif 'comic' in command:\n",
    "                    open_website('MangaZone')\n",
    "                else:\n",
    "                    print(\"Sorry, i don't understand the command\")\n",
    "             \n",
    "            if 'terminate' in command:\n",
    "                terminate = True\n",
    "                \n",
    "         \n",
    "        except sr.UnknownValueError:\n",
    "            print(\"Sorry, I couldn't recognise your voice\")\n",
    "        except sr.RequestError as e:\n",
    "            print(\"Sorry, there was an issue with the speech recognition service.\", str(e))\n",
    "        except Exception as e:\n",
    "            print(\"Sorry, an error occurred\", str(e))\n",
    "            \n",
    "# microphone input\n",
    "sr.Microphone(device_index=0)\n",
    "\n",
    "#driver code\n",
    "voice_command()\n"
   ]
  },
  {
   "cell_type": "code",
   "execution_count": null,
   "id": "4fdc0ba2",
   "metadata": {},
   "outputs": [],
   "source": []
  },
  {
   "cell_type": "code",
   "execution_count": null,
   "id": "eb282259",
   "metadata": {},
   "outputs": [],
   "source": []
  }
 ],
 "metadata": {
  "kernelspec": {
   "display_name": "Python 3 (ipykernel)",
   "language": "python",
   "name": "python3"
  },
  "language_info": {
   "codemirror_mode": {
    "name": "ipython",
    "version": 3
   },
   "file_extension": ".py",
   "mimetype": "text/x-python",
   "name": "python",
   "nbconvert_exporter": "python",
   "pygments_lexer": "ipython3",
   "version": "3.10.9"
  }
 },
 "nbformat": 4,
 "nbformat_minor": 5
}
